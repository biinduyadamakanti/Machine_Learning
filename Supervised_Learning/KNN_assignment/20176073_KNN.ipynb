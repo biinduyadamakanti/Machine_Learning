{
 "cells": [
  {
   "cell_type": "markdown",
   "metadata": {},
   "source": [
    "# KNN on Product Selection"
   ]
  },
  {
   "cell_type": "markdown",
   "metadata": {},
   "source": [
    "**Reading Data:**\n",
    "\n",
    "  The given test and train arff files are converted into dataframes as shown below"
   ]
  },
  {
   "cell_type": "code",
   "execution_count": 1,
   "metadata": {},
   "outputs": [],
   "source": [
    "import sys\n",
    "sys.path.append('c:/users/lenovo/appdata/local/programs/python/python36-32/lib/site-packages')\n",
    "import arff\n",
    "import pandas as pd\n",
    "#from io import StringIO\n",
    "import numpy as np\n",
    "dataset = arff.load(open('trainProdSelection.arff'))\n",
    "data = pd.DataFrame(dataset['data'])\n",
    "data2 = pd.DataFrame(dataset['attributes'])\n",
    "data.columns=data2[0]\n",
    "t_ds=arff.load(open('testProdSelection.arff'))\n",
    "t_ds1=pd.DataFrame(t_ds['data'])\n",
    "t_ds2=pd.DataFrame(t_ds['attributes'])\n",
    "t_ds1.columns=t_ds2[0]\n",
    "label2=pd.DataFrame()\n",
    "label1=pd.DataFrame()"
   ]
  },
  {
   "cell_type": "markdown",
   "metadata": {},
   "source": [
    "Now we seperated the labels from test and train data\n"
   ]
  },
  {
   "cell_type": "code",
   "execution_count": 2,
   "metadata": {},
   "outputs": [],
   "source": [
    "label2['label']=t_ds1['label']\n",
    "label2=list(label2['label'])\n",
    "t_ds1=t_ds1.drop(['label'],axis=1)\n",
    "\n",
    "\n",
    "label1=list(data['label'])\n",
    "data=data.drop(['label'],axis=1)\n"
   ]
  },
  {
   "cell_type": "markdown",
   "metadata": {},
   "source": [
    "Since we have two categorical variables we will encode them using ONE_HOT ENCODING"
   ]
  },
  {
   "cell_type": "code",
   "execution_count": 3,
   "metadata": {},
   "outputs": [],
   "source": [
    "data=pd.get_dummies(data,'Type','LifeStyle')\n",
    "t_ds1=pd.get_dummies(t_ds1,'Type','LifeStyle')"
   ]
  },
  {
   "cell_type": "code",
   "execution_count": 4,
   "metadata": {},
   "outputs": [],
   "source": [
    "#data['label']=label1"
   ]
  },
  {
   "cell_type": "markdown",
   "metadata": {},
   "source": [
    "we will define Normalization and KNN functions"
   ]
  },
  {
   "cell_type": "code",
   "execution_count": 5,
   "metadata": {},
   "outputs": [],
   "source": [
    "def MinMaxScalar_Nrmlzn(ao,data):\n",
    "    x=data[ao]\n",
    "    x1=round((x-min(x))/(max(x)-min(x)),5)\n",
    "    data[ao]=x1"
   ]
  },
  {
   "cell_type": "code",
   "execution_count": 6,
   "metadata": {},
   "outputs": [],
   "source": [
    "import math\n",
    "import operator\n",
    "\n",
    "def euclideanDist(row_tr,row_te):\n",
    "    d = 0.0\n",
    "    for i in range(len(row_tr)):\n",
    "        d+=pow((float(row_tr[i])-float(row_te[i])),2)\n",
    "    d = math.sqrt(d)\n",
    "    return d\n",
    "\n",
    "\n",
    "def knn_predict(test_data, train_data, k_value,labels):\n",
    "    op=[]\n",
    "    pn=0\n",
    "    for pn, row_test in test_data.iterrows():\n",
    "        eu_Distance =[]\n",
    "        knn = []\n",
    "        c={}\n",
    "        for jn, row_train in train_data.iterrows():\n",
    "            eu_dist = euclideanDist(row_train,row_test)\n",
    "            eu_Distance.append((labels[jn], eu_dist))\n",
    "        eu_Distance.sort(key = operator.itemgetter(1))\n",
    "        knn = eu_Distance[:k_value]\n",
    "        for k in knn:\n",
    "            if k[0] not in c:\n",
    "                c[k[0]]=1\n",
    "            else:\n",
    "                c[k[0]]+=1\n",
    "        \n",
    "        sorted_d = list(c.items())\n",
    "        d=pd.DataFrame(sorted_d)\n",
    "        dFilter=d[d[1]==d[1].max()]\n",
    "        fg = dFilter.sort_values(by = 0,ascending=True).head(1)\n",
    "        op.append(fg[0].values[0])\n",
    "                    \n",
    "        \n",
    "    return op\n",
    "            \n",
    "def accuracy(op,label):\n",
    "    correct=0\n",
    "    for i in range(len(label)):\n",
    "        #print(i,\"---------------------\",op[i],\"-------------\",label2[i])\n",
    "        if op[i] == label[i]:\n",
    "            correct += 1\n",
    "    accuracy = float(correct)/len(label) *100  #accuracy \n",
    "    return accuracy"
   ]
  },
  {
   "cell_type": "markdown",
   "metadata": {},
   "source": [
    "Now we will normalize train and test data values"
   ]
  },
  {
   "cell_type": "code",
   "execution_count": 7,
   "metadata": {},
   "outputs": [],
   "source": [
    "MinMaxScalar_Nrmlzn('Vacation',data)\n",
    "MinMaxScalar_Nrmlzn('eCredit',data)\n",
    "MinMaxScalar_Nrmlzn('salary',data)\n",
    "MinMaxScalar_Nrmlzn('property',data)"
   ]
  },
  {
   "cell_type": "code",
   "execution_count": 8,
   "metadata": {},
   "outputs": [],
   "source": [
    "MinMaxScalar_Nrmlzn('Vacation',t_ds1)\n",
    "MinMaxScalar_Nrmlzn('eCredit',t_ds1)\n",
    "MinMaxScalar_Nrmlzn('salary',t_ds1)\n",
    "MinMaxScalar_Nrmlzn('property',t_ds1)"
   ]
  },
  {
   "cell_type": "markdown",
   "metadata": {},
   "source": [
    "Now for different K values we will check on the test data"
   ]
  },
  {
   "cell_type": "code",
   "execution_count": 9,
   "metadata": {},
   "outputs": [],
   "source": [
    "train_dataset=data\n",
    "test_dataset=t_ds1\n",
    "s=[]\n",
    "for i in range(3,100,2):                            # Assumed K value\n",
    "    op=knn_predict(t_ds1,data,i,label1)\n",
    "    #print(op)\n",
    "    o=accuracy(op,label2)\n",
    "    s.append(o)\n"
   ]
  },
  {
   "cell_type": "markdown",
   "metadata": {},
   "source": [
    "Now we will plot the test accuracy on it"
   ]
  },
  {
   "cell_type": "code",
   "execution_count": 70,
   "metadata": {},
   "outputs": [
    {
     "data": {
      "image/png": "[encoded data removed]",
      "text/plain": [
       "<matplotlib.figure.Figure at 0x166512379b0>"
      ]
     },
     "metadata": {},
     "output_type": "display_data"
    }
   ],
   "source": [
    "import matplotlib.pyplot as plt\n",
    "plt.plot(range(3,100,2),s)\n",
    "plt.ylabel('Accuracy')\n",
    "plt.xlabel('K value')\n",
    "plt.show()"
   ]
  },
  {
   "cell_type": "markdown",
   "metadata": {},
   "source": [
    "**OBSERVATIONS:**\n",
    "\n",
    "\n",
    "**Since we could see that the accuracy is changing with k,it could be possibly due to undefitting.So lets now do Crossvalidation.Now we will split the train into train and validation data**"
   ]
  },
  {
   "cell_type": "code",
   "execution_count": 46,
   "metadata": {},
   "outputs": [],
   "source": [
    "data['label']=label1\n",
    "#data_train=data.sample(frac=0.5,replace=True)\n",
    "data_train=data\n",
    "data_labels=data_train['label']\n",
    "#data_train=data_train.drop('label',axis=1)"
   ]
  },
  {
   "cell_type": "code",
   "execution_count": 55,
   "metadata": {},
   "outputs": [],
   "source": [
    "from sklearn.model_selection import train_test_split\n",
    "label1=list(label1)\n",
    "train_data,train_validn,class_data,class_validn=train_test_split(data_train,data_labels,random_state=1,test_size=0.08)\n",
    "train_data=train_data.reset_index(drop=True)\n",
    "train_validn=train_validn.reset_index(drop=True)\n",
    "class_data=class_data.reset_index(drop=True)\n",
    "class_validn=class_validn.reset_index(drop=True)"
   ]
  },
  {
   "cell_type": "code",
   "execution_count": 56,
   "metadata": {},
   "outputs": [],
   "source": [
    "train_data=train_data.drop('label',axis=1)\n",
    "train_validn=train_validn.drop('label',axis=1)"
   ]
  },
  {
   "cell_type": "code",
   "execution_count": 59,
   "metadata": {},
   "outputs": [],
   "source": [
    "pi=[]\n",
    "for i in range(3,50,2):                            # Assumed K value\n",
    "    op=knn_predict(train_validn,train_data,i,class_data)\n",
    "    #print(op)\n",
    "    o=accuracy(op,class_validn)\n",
    "    pi.append(o)"
   ]
  },
  {
   "cell_type": "code",
   "execution_count": 61,
   "metadata": {},
   "outputs": [
    {
     "data": {
      "image/png": "[encoded data removed]",
      "text/plain": [
       "<matplotlib.figure.Figure at 0x23219b6db00>"
      ]
     },
     "metadata": {},
     "output_type": "display_data"
    }
   ],
   "source": [
    "import matplotlib.pyplot as plt\n",
    "plt.plot(range(3,50,2),pi)\n",
    "plt.ylabel('cross val Accuracy')\n",
    "plt.xlabel('K value')\n",
    "plt.show()"
   ]
  },
  {
   "cell_type": "markdown",
   "metadata": {},
   "source": [
    "**OBSERVATIONS :**"
   ]
  },
  {
   "cell_type": "markdown",
   "metadata": {},
   "source": [
    "**From the graph above the cross validated accuracy is mostly around 80,which implies that model is good at  predicting the values of same distribution.Now lets test the model for test data**"
   ]
  },
  {
   "cell_type": "code",
   "execution_count": 65,
   "metadata": {},
   "outputs": [],
   "source": [
    "si=[]\n",
    "for i in range(3,50,2):                            # Assumed K value\n",
    "    op=knn_predict(t_ds1,train_data,i,class_data)\n",
    "    #print(op)\n",
    "    o=accuracy(op,label2)\n",
    "    si.append(o)"
   ]
  },
  {
   "cell_type": "code",
   "execution_count": 67,
   "metadata": {},
   "outputs": [
    {
     "data": {
      "text/plain": [
       "[28.57142857142857,\n",
       " 28.57142857142857,\n",
       " 28.57142857142857,\n",
       " 23.809523809523807,\n",
       " 28.57142857142857,\n",
       " 28.57142857142857,\n",
       " 28.57142857142857,\n",
       " 23.809523809523807,\n",
       " 33.33333333333333,\n",
       " 23.809523809523807,\n",
       " 19.047619047619047,\n",
       " 19.047619047619047,\n",
       " 19.047619047619047,\n",
       " 14.285714285714285,\n",
       " 19.047619047619047,\n",
       " 19.047619047619047,\n",
       " 19.047619047619047,\n",
       " 19.047619047619047,\n",
       " 19.047619047619047,\n",
       " 19.047619047619047,\n",
       " 19.047619047619047,\n",
       " 28.57142857142857,\n",
       " 28.57142857142857,\n",
       " 33.33333333333333]"
      ]
     },
     "execution_count": 67,
     "metadata": {},
     "output_type": "execute_result"
    }
   ],
   "source": [
    "si"
   ]
  },
  {
   "cell_type": "code",
   "execution_count": 66,
   "metadata": {},
   "outputs": [
    {
     "data": {
      "image/png": "[encoded data removed]",
      "text/plain": [
       "<matplotlib.figure.Figure at 0x23219dc6208>"
      ]
     },
     "metadata": {},
     "output_type": "display_data"
    }
   ],
   "source": [
    "import matplotlib.pyplot as plt\n",
    "plt.plot(range(3,50,2),si)\n",
    "plt.ylabel('Accuracy')\n",
    "plt.xlabel('K value')\n",
    "plt.show()"
   ]
  },
  {
   "cell_type": "markdown",
   "metadata": {},
   "source": [
    "**OBSERVATIONS**\n",
    "\n",
    "**We can find that the accuracy is 28 from k=3 to k=20 and the accuracy is at a maximum of 33.33 at 21 and also 50.**\n",
    "\n",
    "**So we can see that the corresponding accuracy for k in the cross validated curve yeilded a maximum of 33.33 which means that the model may overfit.**\n",
    "\n",
    "**But we can see that the distributions of the train and test are completely different because of which our model could not predict accurately.**\n",
    "\n",
    "**Thus the possible solutions to avoid this problem are:**\n",
    "\n",
    "**1.Training with more and more data**\n",
    "\n",
    "**2.Nearly changing the distributions of test and train to  a same distribution**"
   ]
  },
  {
   "cell_type": "code",
   "execution_count": null,
   "metadata": {},
   "outputs": [],
   "source": []
  }
 ],
 "metadata": {
  "kernelspec": {
   "display_name": "Python 3",
   "language": "python",
   "name": "python3"
  },
  "language_info": {
   "codemirror_mode": {
    "name": "ipython",
    "version": 3
   },
   "file_extension": ".py",
   "mimetype": "text/x-python",
   "name": "python",
   "nbconvert_exporter": "python",
   "pygments_lexer": "ipython3",
   "version": "3.6.4"
  }
 },
 "nbformat": 4,
 "nbformat_minor": 2
}
